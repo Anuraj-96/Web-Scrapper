{
 "cells": [
  {
   "cell_type": "code",
   "execution_count": 1,
   "id": "9f9b92bf",
   "metadata": {},
   "outputs": [],
   "source": [
    "from bs4 import BeautifulSoup\n",
    "import csv"
   ]
  },
  {
   "cell_type": "code",
   "execution_count": 2,
   "id": "99cb04a9",
   "metadata": {},
   "outputs": [],
   "source": [
    "from selenium import webdriver "
   ]
  },
  {
   "cell_type": "markdown",
   "id": "f4a1c6e3",
   "metadata": {},
   "source": [
    "# Driver & URL"
   ]
  },
  {
   "cell_type": "code",
   "execution_count": 7,
   "id": "254357c6",
   "metadata": {},
   "outputs": [],
   "source": [
    "driver = webdriver.Chrome(executable_path=\"D:\\\\AI DATA SCIENCE\\\\5.Projects\\\\Internshala assign\\\\chromedriver.exe\")"
   ]
  },
  {
   "cell_type": "code",
   "execution_count": 9,
   "id": "ba4b64e2",
   "metadata": {},
   "outputs": [],
   "source": [
    "url = \"https://www.amazon.in/\"\n",
    "driver.get(url)"
   ]
  },
  {
   "cell_type": "code",
   "execution_count": 10,
   "id": "0d019e41",
   "metadata": {},
   "outputs": [],
   "source": [
    "def get_url(keyword):\n",
    "    template = \"https://www.amazon.in/s?k={}&ref=nb_sb_noss_1\"\n",
    "    keyword = keyword.replace(\" \",\"+\")\n",
    "    return template.format(keyword)"
   ]
  },
  {
   "cell_type": "code",
   "execution_count": 11,
   "id": "bb4392e9",
   "metadata": {},
   "outputs": [
    {
     "name": "stdout",
     "output_type": "stream",
     "text": [
      "https://www.amazon.in/s?k=Muesli&ref=nb_sb_noss_1\n"
     ]
    }
   ],
   "source": [
    "url = get_url(\"Muesli\")\n",
    "print(url)"
   ]
  },
  {
   "cell_type": "code",
   "execution_count": 12,
   "id": "4d327cb5",
   "metadata": {},
   "outputs": [],
   "source": [
    "driver.get(url)"
   ]
  },
  {
   "cell_type": "markdown",
   "id": "875e69c8",
   "metadata": {},
   "source": [
    "# Extraction"
   ]
  },
  {
   "cell_type": "code",
   "execution_count": 13,
   "id": "a3a996bc",
   "metadata": {},
   "outputs": [],
   "source": [
    "soup = BeautifulSoup(driver.page_source,\"html.parser\")"
   ]
  },
  {
   "cell_type": "code",
   "execution_count": 14,
   "id": "4b6f9f19",
   "metadata": {},
   "outputs": [],
   "source": [
    "result = soup.find_all(\"div\" , {\"data-component-type\" : \"s-search-result\"})"
   ]
  },
  {
   "cell_type": "code",
   "execution_count": 15,
   "id": "3f0cb31c",
   "metadata": {},
   "outputs": [
    {
     "data": {
      "text/plain": [
       "60"
      ]
     },
     "execution_count": 15,
     "metadata": {},
     "output_type": "execute_result"
    }
   ],
   "source": [
    "len(result)"
   ]
  },
  {
   "cell_type": "markdown",
   "id": "f4b0c491",
   "metadata": {},
   "source": [
    "# Single Record"
   ]
  },
  {
   "cell_type": "code",
   "execution_count": 16,
   "id": "59fb45d0",
   "metadata": {},
   "outputs": [],
   "source": [
    "item = result[0]"
   ]
  },
  {
   "cell_type": "code",
   "execution_count": 17,
   "id": "ce77a3fb",
   "metadata": {},
   "outputs": [],
   "source": [
    "atag = item.h2.a"
   ]
  },
  {
   "cell_type": "code",
   "execution_count": 19,
   "id": "d9ad3f8b",
   "metadata": {},
   "outputs": [],
   "source": [
    "description = atag.text.strip()"
   ]
  },
  {
   "cell_type": "code",
   "execution_count": 22,
   "id": "543b71a8",
   "metadata": {},
   "outputs": [],
   "source": [
    "url = \"https://www.amazon.in\" + atag.get(\"href\")"
   ]
  },
  {
   "cell_type": "code",
   "execution_count": 23,
   "id": "21db7975",
   "metadata": {},
   "outputs": [],
   "source": [
    "price_parent = item.find(\"span\",\"a-price\")"
   ]
  },
  {
   "cell_type": "code",
   "execution_count": 24,
   "id": "a64fb7b0",
   "metadata": {},
   "outputs": [],
   "source": [
    "price = price_parent.find(\"span\",\"a-offscreen\").text"
   ]
  },
  {
   "cell_type": "code",
   "execution_count": 29,
   "id": "5bfedb67",
   "metadata": {},
   "outputs": [],
   "source": [
    "rating = item.i.text"
   ]
  },
  {
   "cell_type": "code",
   "execution_count": 30,
   "id": "b9332616",
   "metadata": {},
   "outputs": [],
   "source": [
    "review_count = item.find(\"span\",{\"class\":\"a-size-base\"}).text"
   ]
  },
  {
   "cell_type": "markdown",
   "id": "71317a63",
   "metadata": {},
   "source": [
    "# For all items"
   ]
  },
  {
   "cell_type": "code",
   "execution_count": 34,
   "id": "860e0b3d",
   "metadata": {},
   "outputs": [],
   "source": [
    "def extract_record(item):\n",
    "    \n",
    "    #description and url\n",
    "    atag = item.h2.a\n",
    "    description = atag.text.strip()\n",
    "    url = \"https://www.amazon.in\" + atag.get(\"href\")\n",
    "    \n",
    "    \n",
    "            #price\n",
    "    price_parent = item.find(\"span\",\"a-price\")\n",
    "    price = price_parent.find(\"span\",\"a-offscreen\").text\n",
    "\n",
    "\n",
    "\n",
    "            #rating\n",
    "    rating = item.i.text\n",
    "\n",
    "            #No.of reviews\n",
    "    review_count = item.find(\"span\",{\"class\":\"a-size-base\"}).text\n",
    "\n",
    "        \n",
    "    \n",
    "    R= (description,price,rating,review_count,url)\n",
    "    return R"
   ]
  },
  {
   "cell_type": "markdown",
   "id": "d8643c06",
   "metadata": {},
   "source": [
    "# Error handling"
   ]
  },
  {
   "cell_type": "code",
   "execution_count": 35,
   "id": "3b751911",
   "metadata": {},
   "outputs": [],
   "source": [
    "def extract_record(item):\n",
    "    \n",
    "    #description and url\n",
    "    atag = item.h2.a\n",
    "    description = atag.text.strip()\n",
    "    url = \"https://www.amazon.in\" + atag.get(\"href\")\n",
    "    \n",
    "    try:\n",
    "        #price\n",
    "        price_parent = item.find(\"span\",\"a-price\")\n",
    "        price = price_parent.find(\"span\",\"a-offscreen\").text\n",
    "    except AttributeError:\n",
    "        return\n",
    "        \n",
    "    try:\n",
    "        #rating\n",
    "        rating = item.i.text\n",
    "    \n",
    "        #No.of reviews\n",
    "        review_count = item.find(\"span\",{\"class\":\"a-size-base\"}).text\n",
    "    except AttributeError:\n",
    "        rating = \"\"\n",
    "        review_count = \"\"\n",
    "    \n",
    "    R= (description,price,rating,review_count,url)\n",
    "    return R"
   ]
  },
  {
   "cell_type": "code",
   "execution_count": null,
   "id": "c8d3041c",
   "metadata": {},
   "outputs": [],
   "source": []
  },
  {
   "cell_type": "code",
   "execution_count": 36,
   "id": "99d8491c",
   "metadata": {},
   "outputs": [],
   "source": [
    "records=[]\n",
    "result = soup.find_all(\"div\" , {\"data-component-type\" : \"s-search-result\"})\n",
    "\n",
    "for item in result:\n",
    "    record = extract_record(item)\n",
    "    if record:\n",
    "        records.append(record)"
   ]
  },
  {
   "cell_type": "code",
   "execution_count": 38,
   "id": "5e5f4f80",
   "metadata": {},
   "outputs": [
    {
     "data": {
      "text/plain": [
       "('Amazon brand - Solimo No Sugar Muesli, 1kg',\n",
       " '₹345',\n",
       " '4.0 out of 5 stars',\n",
       " '4,048',\n",
       " 'https://www.amazon.in/Solimo-Amazon-Brand-Sugar-Muesli/dp/B083NFZLP9/ref=sr_1_6?dchild=1&keywords=Muesli&qid=1628928062&smid=ARENK22K2PQRH&sr=8-6')"
      ]
     },
     "execution_count": 38,
     "metadata": {},
     "output_type": "execute_result"
    }
   ],
   "source": [
    "records[5]"
   ]
  },
  {
   "cell_type": "code",
   "execution_count": 42,
   "id": "9ec31465",
   "metadata": {},
   "outputs": [
    {
     "name": "stdout",
     "output_type": "stream",
     "text": [
      "₹414\n",
      "₹599\n",
      "₹380\n",
      "₹315\n",
      "₹380\n",
      "₹345\n",
      "₹356\n",
      "₹424\n",
      "₹425\n",
      "₹360\n",
      "₹519\n",
      "₹315\n",
      "₹315\n",
      "₹360\n",
      "₹354\n",
      "₹299\n",
      "₹389\n",
      "₹399\n",
      "₹414\n",
      "₹515\n",
      "₹315\n",
      "₹325\n",
      "₹419\n",
      "₹385\n",
      "₹545\n",
      "₹506\n",
      "₹315\n",
      "₹340\n",
      "₹500\n",
      "₹699\n",
      "₹275\n",
      "₹500\n",
      "₹315\n",
      "₹500\n",
      "₹511\n",
      "₹197\n",
      "₹750\n",
      "₹199\n",
      "₹492\n",
      "₹288\n",
      "₹500\n",
      "₹419\n",
      "₹315\n",
      "₹309\n",
      "₹419\n",
      "₹329\n",
      "₹284\n",
      "₹368\n",
      "₹305\n",
      "₹320\n",
      "₹257\n",
      "₹299\n",
      "₹330\n",
      "₹499\n",
      "₹297\n",
      "₹517\n",
      "₹500\n",
      "₹419\n",
      "₹500\n",
      "₹325\n"
     ]
    }
   ],
   "source": [
    "for row in records:\n",
    "    print(row[1])"
   ]
  },
  {
   "cell_type": "markdown",
   "id": "daa66923",
   "metadata": {},
   "source": [
    "# for the next page"
   ]
  },
  {
   "cell_type": "code",
   "execution_count": null,
   "id": "d1026698",
   "metadata": {},
   "outputs": [],
   "source": [
    "def get_url(keyword):\n",
    "    template = \"https://www.amazon.in/s?k={}&ref=nb_sb_noss_1\"\n",
    "    keyword = keyword.replace(\" \",\"+\")\n",
    "    \n",
    "    #adding term query\n",
    "    url = template.format(keyword)\n",
    "    \n",
    "    #add page query\n",
    "    url += \"&page={}\"\n",
    "    \n",
    "    return url"
   ]
  },
  {
   "cell_type": "markdown",
   "id": "088eee00",
   "metadata": {},
   "source": [
    "# Putting Altogether"
   ]
  },
  {
   "cell_type": "code",
   "execution_count": 45,
   "id": "9252388f",
   "metadata": {},
   "outputs": [],
   "source": [
    "from bs4 import BeautifulSoup\n",
    "import csv\n",
    "from selenium import webdriver \n",
    "\n",
    "def get_url(keyword):\n",
    "    template = \"https://www.amazon.in/s?k={}&ref=nb_sb_noss_1\"\n",
    "    keyword = keyword.replace(\" \",\"+\")\n",
    "    \n",
    "    #adding term query\n",
    "    url = template.format(keyword)\n",
    "    \n",
    "    #add page query\n",
    "    url += \"&page={}\"\n",
    "    \n",
    "    return url\n",
    "\n",
    "\n",
    "\n",
    "def extract_record(item):\n",
    "    \n",
    "    #description and url\n",
    "    atag = item.h2.a\n",
    "    description = atag.text.strip()\n",
    "    url = \"https://www.amazon.in\" + atag.get(\"href\")\n",
    "    \n",
    "    try:\n",
    "        #price\n",
    "        price_parent = item.find(\"span\",\"a-price\")\n",
    "        price = price_parent.find(\"span\",\"a-offscreen\").text\n",
    "    except AttributeError:\n",
    "        return\n",
    "        \n",
    "    try:\n",
    "        #rating\n",
    "        rating = item.i.text\n",
    "    \n",
    "        #No.of reviews\n",
    "        review_count = item.find(\"span\",{\"class\":\"a-size-base\"}).text\n",
    "    except AttributeError:\n",
    "        rating = \"\"\n",
    "        review_count = \"\"\n",
    "    \n",
    "    R= (description,price,rating,review_count,url)\n",
    "    return R\n",
    "\n",
    "def main(keyword):\n",
    "    driver = webdriver.Chrome(executable_path=\"D:\\\\AI DATA SCIENCE\\\\5.Projects\\\\Internshala assign\\\\chromedriver.exe\")\n",
    "    \n",
    "    records=[]\n",
    "    url= get_url(keyword)\n",
    "    \n",
    "    for page in range(1,4):\n",
    "        driver.get(url.format(page))\n",
    "        soup = BeautifulSoup(driver.page_source,\"html.parser\")\n",
    "        result = soup.find_all(\"div\" , {\"data-component-type\" : \"s-search-result\"}) \n",
    "        \n",
    "        for item in result:\n",
    "            record = extract_record(item)\n",
    "            if record:\n",
    "                records.append(record)\n",
    "\n",
    "    driver.close()\n",
    "    \n",
    "    #save the data to csv file\n",
    "    with open(\"results.csv\",\"w\",newline=\"\",encoding=\"utf-8\") as f:\n",
    "        writer = csv.writer(f)\n",
    "        writer.writerow([\"Description\",\"Price\",\"Rating\",\"No.of Reviews\",\"Url\"])\n",
    "        writer.writerows(records)\n",
    "    "
   ]
  },
  {
   "cell_type": "code",
   "execution_count": 46,
   "id": "851e8c14",
   "metadata": {},
   "outputs": [],
   "source": [
    "main(\"Muesli\")"
   ]
  },
  {
   "cell_type": "code",
   "execution_count": null,
   "id": "a774a4cd",
   "metadata": {},
   "outputs": [],
   "source": []
  }
 ],
 "metadata": {
  "kernelspec": {
   "display_name": "Python 3",
   "language": "python",
   "name": "python3"
  },
  "language_info": {
   "codemirror_mode": {
    "name": "ipython",
    "version": 3
   },
   "file_extension": ".py",
   "mimetype": "text/x-python",
   "name": "python",
   "nbconvert_exporter": "python",
   "pygments_lexer": "ipython3",
   "version": "3.9.5"
  }
 },
 "nbformat": 4,
 "nbformat_minor": 5
}
